{
 "cells": [
  {
   "cell_type": "code",
   "execution_count": 1,
   "id": "41d8cf93-4f02-4faa-aa20-e51adc0c6828",
   "metadata": {},
   "outputs": [],
   "source": [
    "import numpy as np\n",
    "import matplotlib.pyplot as plt\n",
    "import pingouin as pg\n",
    "import pandas as pd"
   ]
  },
  {
   "cell_type": "code",
   "execution_count": 2,
   "id": "0170d3f1-40a4-4172-9d40-788fe35ff609",
   "metadata": {},
   "outputs": [],
   "source": [
    "mean1 = 4\n",
    "mean2 = 3.8\n",
    "mean3 = 7\n",
    "\n",
    "N = 30\n",
    "\n",
    "st_dev = 2"
   ]
  },
  {
   "cell_type": "code",
   "execution_count": 7,
   "id": "bf3265f8-4926-4e82-bfab-cbd2ecc43aa8",
   "metadata": {},
   "outputs": [
    {
     "data": {
      "text/html": [
       "<div>\n",
       "<style scoped>\n",
       "    .dataframe tbody tr th:only-of-type {\n",
       "        vertical-align: middle;\n",
       "    }\n",
       "\n",
       "    .dataframe tbody tr th {\n",
       "        vertical-align: top;\n",
       "    }\n",
       "\n",
       "    .dataframe thead th {\n",
       "        text-align: right;\n",
       "    }\n",
       "</style>\n",
       "<table border=\"1\" class=\"dataframe\">\n",
       "  <thead>\n",
       "    <tr style=\"text-align: right;\">\n",
       "      <th></th>\n",
       "      <th>d1</th>\n",
       "      <th>d2</th>\n",
       "      <th>d3</th>\n",
       "    </tr>\n",
       "  </thead>\n",
       "  <tbody>\n",
       "    <tr>\n",
       "      <th>0</th>\n",
       "      <td>6.283775</td>\n",
       "      <td>4.669957</td>\n",
       "      <td>8.889675</td>\n",
       "    </tr>\n",
       "    <tr>\n",
       "      <th>1</th>\n",
       "      <td>1.963791</td>\n",
       "      <td>3.980079</td>\n",
       "      <td>9.886384</td>\n",
       "    </tr>\n",
       "    <tr>\n",
       "      <th>2</th>\n",
       "      <td>2.598768</td>\n",
       "      <td>6.768060</td>\n",
       "      <td>4.918296</td>\n",
       "    </tr>\n",
       "    <tr>\n",
       "      <th>3</th>\n",
       "      <td>4.787173</td>\n",
       "      <td>3.135473</td>\n",
       "      <td>9.103136</td>\n",
       "    </tr>\n",
       "    <tr>\n",
       "      <th>4</th>\n",
       "      <td>2.823884</td>\n",
       "      <td>3.568233</td>\n",
       "      <td>3.226099</td>\n",
       "    </tr>\n",
       "  </tbody>\n",
       "</table>\n",
       "</div>"
      ],
      "text/plain": [
       "         d1        d2        d3\n",
       "0  6.283775  4.669957  8.889675\n",
       "1  1.963791  3.980079  9.886384\n",
       "2  2.598768  6.768060  4.918296\n",
       "3  4.787173  3.135473  9.103136\n",
       "4  2.823884  3.568233  3.226099"
      ]
     },
     "execution_count": 7,
     "metadata": {},
     "output_type": "execute_result"
    }
   ],
   "source": [
    "data1 = mean1 + np.random.randn(N) * st_dev\n",
    "data2 = mean2 + np.random.randn(N) * st_dev\n",
    "data3 = mean3 + np.random.randn(N) * st_dev\n",
    "\n",
    "data_mat = np.vstack((data1, data2, data3)).T\n",
    "\n",
    "df = pd.DataFrame(data_mat, columns=['d1', 'd2', 'd3'])\n",
    "\n",
    "df.head(5)"
   ]
  },
  {
   "cell_type": "code",
   "execution_count": null,
   "id": "e46671bc-030f-4159-8564-2aa3df499bb8",
   "metadata": {},
   "outputs": [],
   "source": []
  }
 ],
 "metadata": {
  "kernelspec": {
   "display_name": "Python [conda env:ml_data_science]",
   "language": "python",
   "name": "conda-env-ml_data_science-py"
  },
  "language_info": {
   "codemirror_mode": {
    "name": "ipython",
    "version": 3
   },
   "file_extension": ".py",
   "mimetype": "text/x-python",
   "name": "python",
   "nbconvert_exporter": "python",
   "pygments_lexer": "ipython3",
   "version": "3.10.6"
  }
 },
 "nbformat": 4,
 "nbformat_minor": 5
}
