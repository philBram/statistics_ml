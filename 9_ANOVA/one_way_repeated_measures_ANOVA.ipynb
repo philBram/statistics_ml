{
 "cells": [
  {
   "cell_type": "code",
   "execution_count": 1,
   "id": "41d8cf93-4f02-4faa-aa20-e51adc0c6828",
   "metadata": {},
   "outputs": [],
   "source": [
    "import numpy as np\n",
    "import matplotlib.pyplot as plt\n",
    "import pingouin as pg\n",
    "import pandas as pd"
   ]
  },
  {
   "cell_type": "code",
   "execution_count": 2,
   "id": "0170d3f1-40a4-4172-9d40-788fe35ff609",
   "metadata": {},
   "outputs": [],
   "source": [
    "mean1 = 4\n",
    "mean2 = 3.8\n",
    "mean3 = 7\n",
    "\n",
    "N = 30\n",
    "\n",
    "st_dev = 2"
   ]
  },
  {
   "cell_type": "code",
   "execution_count": 161,
   "id": "bf3265f8-4926-4e82-bfab-cbd2ecc43aa8",
   "metadata": {},
   "outputs": [
    {
     "data": {
      "text/html": [
       "<div>\n",
       "<style scoped>\n",
       "    .dataframe tbody tr th:only-of-type {\n",
       "        vertical-align: middle;\n",
       "    }\n",
       "\n",
       "    .dataframe tbody tr th {\n",
       "        vertical-align: top;\n",
       "    }\n",
       "\n",
       "    .dataframe thead th {\n",
       "        text-align: right;\n",
       "    }\n",
       "</style>\n",
       "<table border=\"1\" class=\"dataframe\">\n",
       "  <thead>\n",
       "    <tr style=\"text-align: right;\">\n",
       "      <th></th>\n",
       "      <th>d1</th>\n",
       "      <th>d2</th>\n",
       "      <th>d3</th>\n",
       "    </tr>\n",
       "  </thead>\n",
       "  <tbody>\n",
       "    <tr>\n",
       "      <th>0</th>\n",
       "      <td>2.193672</td>\n",
       "      <td>3.628874</td>\n",
       "      <td>8.943512</td>\n",
       "    </tr>\n",
       "    <tr>\n",
       "      <th>1</th>\n",
       "      <td>2.267647</td>\n",
       "      <td>2.762800</td>\n",
       "      <td>8.244194</td>\n",
       "    </tr>\n",
       "    <tr>\n",
       "      <th>2</th>\n",
       "      <td>1.754328</td>\n",
       "      <td>1.378492</td>\n",
       "      <td>6.598412</td>\n",
       "    </tr>\n",
       "    <tr>\n",
       "      <th>3</th>\n",
       "      <td>3.851949</td>\n",
       "      <td>3.880552</td>\n",
       "      <td>9.791982</td>\n",
       "    </tr>\n",
       "    <tr>\n",
       "      <th>4</th>\n",
       "      <td>3.703588</td>\n",
       "      <td>3.448481</td>\n",
       "      <td>6.836102</td>\n",
       "    </tr>\n",
       "  </tbody>\n",
       "</table>\n",
       "</div>"
      ],
      "text/plain": [
       "         d1        d2        d3\n",
       "0  2.193672  3.628874  8.943512\n",
       "1  2.267647  2.762800  8.244194\n",
       "2  1.754328  1.378492  6.598412\n",
       "3  3.851949  3.880552  9.791982\n",
       "4  3.703588  3.448481  6.836102"
      ]
     },
     "execution_count": 161,
     "metadata": {},
     "output_type": "execute_result"
    }
   ],
   "source": [
    "data1 = mean1 + np.random.randn(N) * st_dev\n",
    "data2 = mean2 + np.random.randn(N) * st_dev\n",
    "data3 = mean3 + np.random.randn(N) * st_dev\n",
    "\n",
    "data_mat = np.vstack((data1, data2, data3)).T\n",
    "\n",
    "df = pd.DataFrame(data_mat, columns=['d1', 'd2', 'd3'])\n",
    "\n",
    "df.head(5)"
   ]
  },
  {
   "cell_type": "code",
   "execution_count": 162,
   "id": "e46671bc-030f-4159-8564-2aa3df499bb8",
   "metadata": {},
   "outputs": [
    {
     "data": {
      "text/html": [
       "<div>\n",
       "<style scoped>\n",
       "    .dataframe tbody tr th:only-of-type {\n",
       "        vertical-align: middle;\n",
       "    }\n",
       "\n",
       "    .dataframe tbody tr th {\n",
       "        vertical-align: top;\n",
       "    }\n",
       "\n",
       "    .dataframe thead th {\n",
       "        text-align: right;\n",
       "    }\n",
       "</style>\n",
       "<table border=\"1\" class=\"dataframe\">\n",
       "  <thead>\n",
       "    <tr style=\"text-align: right;\">\n",
       "      <th></th>\n",
       "      <th>Source</th>\n",
       "      <th>SS</th>\n",
       "      <th>DF</th>\n",
       "      <th>MS</th>\n",
       "      <th>F</th>\n",
       "      <th>p-unc</th>\n",
       "      <th>ng2</th>\n",
       "      <th>eps</th>\n",
       "    </tr>\n",
       "  </thead>\n",
       "  <tbody>\n",
       "    <tr>\n",
       "      <th>0</th>\n",
       "      <td>Within</td>\n",
       "      <td>210.644052</td>\n",
       "      <td>2</td>\n",
       "      <td>105.322026</td>\n",
       "      <td>22.298104</td>\n",
       "      <td>6.555469e-08</td>\n",
       "      <td>0.376861</td>\n",
       "      <td>0.972743</td>\n",
       "    </tr>\n",
       "    <tr>\n",
       "      <th>1</th>\n",
       "      <td>Error</td>\n",
       "      <td>273.955016</td>\n",
       "      <td>58</td>\n",
       "      <td>4.723362</td>\n",
       "      <td>NaN</td>\n",
       "      <td>NaN</td>\n",
       "      <td>NaN</td>\n",
       "      <td>NaN</td>\n",
       "    </tr>\n",
       "  </tbody>\n",
       "</table>\n",
       "</div>"
      ],
      "text/plain": [
       "   Source          SS  DF          MS          F         p-unc       ng2  \\\n",
       "0  Within  210.644052   2  105.322026  22.298104  6.555469e-08  0.376861   \n",
       "1   Error  273.955016  58    4.723362        NaN           NaN       NaN   \n",
       "\n",
       "        eps  \n",
       "0  0.972743  \n",
       "1       NaN  "
      ]
     },
     "execution_count": 162,
     "metadata": {},
     "output_type": "execute_result"
    }
   ],
   "source": [
    "pg.rm_anova(data=df, detailed=True)"
   ]
  },
  {
   "cell_type": "code",
   "execution_count": 246,
   "id": "67b4f219-fa06-49fb-986c-529e02fe2e1e",
   "metadata": {},
   "outputs": [
    {
     "data": {
      "image/png": "[encoded data removed]",
      "text/plain": [
       "<Figure size 640x480 with 1 Axes>"
      ]
     },
     "metadata": {},
     "output_type": "display_data"
    }
   ],
   "source": [
    "df.boxplot()\n",
    "\n",
    "plt.show()"
   ]
  },
  {
   "cell_type": "code",
   "execution_count": 251,
   "id": "445eedad-d05e-42f1-ae4f-b3cccb4aed3d",
   "metadata": {},
   "outputs": [
    {
     "data": {
      "image/png": "[encoded data removed]",
      "text/plain": [
       "<Figure size 640x480 with 1 Axes>"
      ]
     },
     "metadata": {},
     "output_type": "display_data"
    }
   ],
   "source": [
    "plt.bar(df.columns, df.mean(axis=0))\n",
    "\n",
    "plt.show()"
   ]
  },
  {
   "cell_type": "code",
   "execution_count": 254,
   "id": "71556ecd-f892-4b8e-a027-75f4c666a09b",
   "metadata": {},
   "outputs": [
    {
     "data": {
      "text/html": [
       "<div>\n",
       "<style scoped>\n",
       "    .dataframe tbody tr th:only-of-type {\n",
       "        vertical-align: middle;\n",
       "    }\n",
       "\n",
       "    .dataframe tbody tr th {\n",
       "        vertical-align: top;\n",
       "    }\n",
       "\n",
       "    .dataframe thead th {\n",
       "        text-align: right;\n",
       "    }\n",
       "</style>\n",
       "<table border=\"1\" class=\"dataframe\">\n",
       "  <thead>\n",
       "    <tr style=\"text-align: right;\">\n",
       "      <th></th>\n",
       "      <th>Source</th>\n",
       "      <th>SS</th>\n",
       "      <th>DF</th>\n",
       "      <th>MS</th>\n",
       "      <th>F</th>\n",
       "      <th>p-unc</th>\n",
       "      <th>ng2</th>\n",
       "      <th>eps</th>\n",
       "    </tr>\n",
       "  </thead>\n",
       "  <tbody>\n",
       "    <tr>\n",
       "      <th>0</th>\n",
       "      <td>Within</td>\n",
       "      <td>18.2</td>\n",
       "      <td>3</td>\n",
       "      <td>6.066667</td>\n",
       "      <td>3.615894</td>\n",
       "      <td>0.025787</td>\n",
       "      <td>0.130372</td>\n",
       "      <td>0.697356</td>\n",
       "    </tr>\n",
       "    <tr>\n",
       "      <th>1</th>\n",
       "      <td>Error</td>\n",
       "      <td>45.3</td>\n",
       "      <td>27</td>\n",
       "      <td>1.677778</td>\n",
       "      <td>NaN</td>\n",
       "      <td>NaN</td>\n",
       "      <td>NaN</td>\n",
       "      <td>NaN</td>\n",
       "    </tr>\n",
       "  </tbody>\n",
       "</table>\n",
       "</div>"
      ],
      "text/plain": [
       "   Source    SS  DF        MS         F     p-unc       ng2       eps\n",
       "0  Within  18.2   3  6.066667  3.615894  0.025787  0.130372  0.697356\n",
       "1   Error  45.3  27  1.677778       NaN       NaN       NaN       NaN"
      ]
     },
     "execution_count": 254,
     "metadata": {},
     "output_type": "execute_result"
    }
   ],
   "source": [
    "data = [\n",
    "    [8, 7, 6, 7],\n",
    "    [5, 8, 5, 6],\n",
    "    [6, 5, 3, 4],\n",
    "    [6, 6, 7, 3],\n",
    "    [8, 10, 8, 6],\n",
    "    [6, 5, 6, 3],\n",
    "    [6, 5, 2, 3],\n",
    "    [9, 9, 9, 6],\n",
    "    [5, 4, 3, 7],\n",
    "    [7, 6, 6, 5]\n",
    "]\n",
    "\n",
    "df = pd.DataFrame(data=data, columns=['1', '2', '3', '4'])\n",
    "\n",
    "pg.rm_anova(data=df, detailed=True)"
   ]
  },
  {
   "cell_type": "code",
   "execution_count": 288,
   "id": "e5f13bc7-03fc-434e-8b9f-9a847e9e6473",
   "metadata": {},
   "outputs": [
    {
     "data": {
      "text/html": [
       "<div>\n",
       "<style scoped>\n",
       "    .dataframe tbody tr th:only-of-type {\n",
       "        vertical-align: middle;\n",
       "    }\n",
       "\n",
       "    .dataframe tbody tr th {\n",
       "        vertical-align: top;\n",
       "    }\n",
       "\n",
       "    .dataframe thead th {\n",
       "        text-align: right;\n",
       "    }\n",
       "</style>\n",
       "<table border=\"1\" class=\"dataframe\">\n",
       "  <thead>\n",
       "    <tr style=\"text-align: right;\">\n",
       "      <th></th>\n",
       "      <th>Subject</th>\n",
       "      <th>Mood</th>\n",
       "      <th>Snack type</th>\n",
       "    </tr>\n",
       "  </thead>\n",
       "  <tbody>\n",
       "    <tr>\n",
       "      <th>0</th>\n",
       "      <td>0</td>\n",
       "      <td>7</td>\n",
       "      <td>chocolate</td>\n",
       "    </tr>\n",
       "    <tr>\n",
       "      <th>1</th>\n",
       "      <td>0</td>\n",
       "      <td>86</td>\n",
       "      <td>chips</td>\n",
       "    </tr>\n",
       "    <tr>\n",
       "      <th>2</th>\n",
       "      <td>0</td>\n",
       "      <td>62</td>\n",
       "      <td>ice cream</td>\n",
       "    </tr>\n",
       "    <tr>\n",
       "      <th>3</th>\n",
       "      <td>1</td>\n",
       "      <td>81</td>\n",
       "      <td>chocolate</td>\n",
       "    </tr>\n",
       "    <tr>\n",
       "      <th>4</th>\n",
       "      <td>1</td>\n",
       "      <td>17</td>\n",
       "      <td>chips</td>\n",
       "    </tr>\n",
       "  </tbody>\n",
       "</table>\n",
       "</div>"
      ],
      "text/plain": [
       "  Subject  Mood Snack type\n",
       "0       0     7  chocolate\n",
       "1       0    86      chips\n",
       "2       0    62  ice cream\n",
       "3       1    81  chocolate\n",
       "4       1    17      chips"
      ]
     },
     "execution_count": 288,
     "metadata": {},
     "output_type": "execute_result"
    }
   ],
   "source": [
    "subjects = np.repeat(np.arange(20), 3)\n",
    "mood = np.random.randint(0, 101, len(subjects))\n",
    "snack_type = np.tile(['chocolate', 'chips', 'ice cream'], 20)\n",
    "\n",
    "df = pd.DataFrame(np.c_[subjects, mood, snack_type], columns=['Subject', 'Mood', 'Snack type'])\n",
    "df['Mood'] = pd.to_numeric(df['Mood'])\n",
    "df.head(5)"
   ]
  },
  {
   "cell_type": "code",
   "execution_count": 289,
   "id": "4ce2536c-6cb6-420e-ae1f-6cc38cc8e159",
   "metadata": {},
   "outputs": [
    {
     "data": {
      "text/html": [
       "<div>\n",
       "<style scoped>\n",
       "    .dataframe tbody tr th:only-of-type {\n",
       "        vertical-align: middle;\n",
       "    }\n",
       "\n",
       "    .dataframe tbody tr th {\n",
       "        vertical-align: top;\n",
       "    }\n",
       "\n",
       "    .dataframe thead th {\n",
       "        text-align: right;\n",
       "    }\n",
       "</style>\n",
       "<table border=\"1\" class=\"dataframe\">\n",
       "  <thead>\n",
       "    <tr style=\"text-align: right;\">\n",
       "      <th></th>\n",
       "      <th>Source</th>\n",
       "      <th>SS</th>\n",
       "      <th>DF</th>\n",
       "      <th>MS</th>\n",
       "      <th>F</th>\n",
       "      <th>p-unc</th>\n",
       "      <th>ng2</th>\n",
       "      <th>eps</th>\n",
       "    </tr>\n",
       "  </thead>\n",
       "  <tbody>\n",
       "    <tr>\n",
       "      <th>0</th>\n",
       "      <td>Snack type</td>\n",
       "      <td>4960.000000</td>\n",
       "      <td>2</td>\n",
       "      <td>2480.000000</td>\n",
       "      <td>3.115235</td>\n",
       "      <td>0.05587</td>\n",
       "      <td>0.091014</td>\n",
       "      <td>0.988835</td>\n",
       "    </tr>\n",
       "    <tr>\n",
       "      <th>1</th>\n",
       "      <td>Error</td>\n",
       "      <td>30251.333333</td>\n",
       "      <td>38</td>\n",
       "      <td>796.087719</td>\n",
       "      <td>NaN</td>\n",
       "      <td>NaN</td>\n",
       "      <td>NaN</td>\n",
       "      <td>NaN</td>\n",
       "    </tr>\n",
       "  </tbody>\n",
       "</table>\n",
       "</div>"
      ],
      "text/plain": [
       "       Source            SS  DF           MS         F    p-unc       ng2  \\\n",
       "0  Snack type   4960.000000   2  2480.000000  3.115235  0.05587  0.091014   \n",
       "1       Error  30251.333333  38   796.087719       NaN      NaN       NaN   \n",
       "\n",
       "        eps  \n",
       "0  0.988835  \n",
       "1       NaN  "
      ]
     },
     "execution_count": 289,
     "metadata": {},
     "output_type": "execute_result"
    }
   ],
   "source": [
    "pg.rm_anova(data=df, dv='Mood', subject='Subject', within='Snack type', detailed=True)"
   ]
  },
  {
   "cell_type": "code",
   "execution_count": 291,
   "id": "2cb4e930-e044-469e-8fbd-76d67aabd0fb",
   "metadata": {},
   "outputs": [
    {
     "data": {
      "text/html": [
       "<div>\n",
       "<style scoped>\n",
       "    .dataframe tbody tr th:only-of-type {\n",
       "        vertical-align: middle;\n",
       "    }\n",
       "\n",
       "    .dataframe tbody tr th {\n",
       "        vertical-align: top;\n",
       "    }\n",
       "\n",
       "    .dataframe thead th {\n",
       "        text-align: right;\n",
       "    }\n",
       "</style>\n",
       "<table border=\"1\" class=\"dataframe\">\n",
       "  <thead>\n",
       "    <tr style=\"text-align: right;\">\n",
       "      <th></th>\n",
       "      <th>A</th>\n",
       "      <th>B</th>\n",
       "      <th>mean(A)</th>\n",
       "      <th>mean(B)</th>\n",
       "      <th>diff</th>\n",
       "      <th>se</th>\n",
       "      <th>T</th>\n",
       "      <th>p-tukey</th>\n",
       "      <th>hedges</th>\n",
       "    </tr>\n",
       "  </thead>\n",
       "  <tbody>\n",
       "    <tr>\n",
       "      <th>0</th>\n",
       "      <td>chips</td>\n",
       "      <td>chocolate</td>\n",
       "      <td>40.75</td>\n",
       "      <td>62.75</td>\n",
       "      <td>-22.0</td>\n",
       "      <td>9.322417</td>\n",
       "      <td>-2.359903</td>\n",
       "      <td>0.055710</td>\n",
       "      <td>-0.769542</td>\n",
       "    </tr>\n",
       "    <tr>\n",
       "      <th>1</th>\n",
       "      <td>chips</td>\n",
       "      <td>ice cream</td>\n",
       "      <td>40.75</td>\n",
       "      <td>48.75</td>\n",
       "      <td>-8.0</td>\n",
       "      <td>9.322417</td>\n",
       "      <td>-0.858147</td>\n",
       "      <td>0.668638</td>\n",
       "      <td>-0.263725</td>\n",
       "    </tr>\n",
       "    <tr>\n",
       "      <th>2</th>\n",
       "      <td>chocolate</td>\n",
       "      <td>ice cream</td>\n",
       "      <td>62.75</td>\n",
       "      <td>48.75</td>\n",
       "      <td>14.0</td>\n",
       "      <td>9.322417</td>\n",
       "      <td>1.501756</td>\n",
       "      <td>0.297730</td>\n",
       "      <td>0.448012</td>\n",
       "    </tr>\n",
       "  </tbody>\n",
       "</table>\n",
       "</div>"
      ],
      "text/plain": [
       "           A          B  mean(A)  mean(B)  diff        se         T   p-tukey  \\\n",
       "0      chips  chocolate    40.75    62.75 -22.0  9.322417 -2.359903  0.055710   \n",
       "1      chips  ice cream    40.75    48.75  -8.0  9.322417 -0.858147  0.668638   \n",
       "2  chocolate  ice cream    62.75    48.75  14.0  9.322417  1.501756  0.297730   \n",
       "\n",
       "     hedges  \n",
       "0 -0.769542  \n",
       "1 -0.263725  \n",
       "2  0.448012  "
      ]
     },
     "execution_count": 291,
     "metadata": {},
     "output_type": "execute_result"
    }
   ],
   "source": [
    "pg.pairwise_tukey(data=df, dv='Mood', between='Snack type')"
   ]
  },
  {
   "cell_type": "code",
   "execution_count": 292,
   "id": "3fdc6055-8d23-418c-9bee-db0cd92d957d",
   "metadata": {},
   "outputs": [
    {
     "data": {
      "image/png": "[encoded data removed]",
      "text/plain": [
       "<Figure size 640x480 with 1 Axes>"
      ]
     },
     "metadata": {},
     "output_type": "display_data"
    }
   ],
   "source": [
    "df.boxplot()\n",
    "\n",
    "plt.show()"
   ]
  }
 ],
 "metadata": {
  "kernelspec": {
   "display_name": "Python [conda env:ml_data_science]",
   "language": "python",
   "name": "conda-env-ml_data_science-py"
  },
  "language_info": {
   "codemirror_mode": {
    "name": "ipython",
    "version": 3
   },
   "file_extension": ".py",
   "mimetype": "text/x-python",
   "name": "python",
   "nbconvert_exporter": "python",
   "pygments_lexer": "ipython3",
   "version": "3.10.6"
  }
 },
 "nbformat": 4,
 "nbformat_minor": 5
}
